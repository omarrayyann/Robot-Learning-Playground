{
 "cells": [
  {
   "cell_type": "markdown",
   "metadata": {},
   "source": [
    "**Libraries**"
   ]
  },
  {
   "cell_type": "code",
   "execution_count": 1,
   "metadata": {
    "ExecuteTime": {
     "end_time": "2024-05-17T07:23:54.637328Z",
     "start_time": "2024-05-17T07:23:54.517345Z"
    }
   },
   "outputs": [
    {
     "name": "stderr",
     "output_type": "stream",
     "text": [
      "pybullet build time: Mar 14 2024 13:49:57\n"
     ]
    }
   ],
   "source": [
    "import pybullet as p\n",
    "import numpy as np\n",
    "import time\n",
    "import pybullet_data"
   ]
  },
  {
   "cell_type": "markdown",
   "metadata": {
    "collapsed": false
   },
   "source": [
    "**Setting up Pybullet Enviornment**"
   ]
  },
  {
   "cell_type": "code",
   "execution_count": 2,
   "metadata": {
    "collapsed": false,
    "ExecuteTime": {
     "end_time": "2024-05-17T07:23:54.646730Z",
     "start_time": "2024-05-17T07:23:54.642936Z"
    }
   },
   "outputs": [],
   "source": [
    "class Environment:\n",
    "    \n",
    "    def __init__(self):\n",
    "        self.state = self.init_state()\n",
    "        self.step_count = 0\n",
    "        \n",
    "    def init_state(self):\n",
    "        p.connect(p.GUI)\n",
    "        p.resetSimulation()\n",
    "        p.setAdditionalSearchPath(pybullet_data.getDataPath())\n",
    "        p.setGravity(0,0,-9.8)\n",
    "        p.setRealTimeSimulation(0)  \n",
    "        p.loadURDF(\"plane.urdf\", [0,0,0], [0,0,0,1])\n",
    "        self.pandaUID = p.loadURDF(\"franka_panda/panda.urdf\", [0,0,0],[0,0,0,1],useFixedBase=True)\n",
    "        finger_pos = p.getLinkState(self.pandaUID,9)[0]\n",
    "        obs = np.array([finger_pos]).flatten()\n",
    "        return obs\n",
    "    \n",
    "    def reset(self):\n",
    "        p.disconnect()\n",
    "        self.state = self.init_state()\n",
    "        self.step_count = 0\n",
    "    \n",
    "    def step(self, action):\n",
    "        \n",
    "        self.step_count += 1\n",
    "        p.setJointMotorControlArray(self.pandaUID, [4], p.POSITION_CONTROL, [action])\n",
    "        p.stepSimulation()\n",
    "        finger_pos = p.getLinkState(self.pandaUID,9)[0]\n",
    "        \n",
    "        if self.step_count >= 1000: # check for termination\n",
    "            self.reset()\n",
    "            finger_pos = p.getLinkState(self.pandaUID, 9)[0]\n",
    "            obs = np.array([finger_pos]).flatten()\n",
    "            self.state = obs\n",
    "            reward = -1\n",
    "            done = True\n",
    "            return reward, done\n",
    "        \n",
    "        obs = np.array([finger_pos]).flatten()\n",
    "        self.state = obs\n",
    "        reward = -1\n",
    "        done = False\n",
    "        \n",
    "        return reward, done"
   ]
  },
  {
   "cell_type": "code",
   "execution_count": 3,
   "metadata": {
    "collapsed": false,
    "ExecuteTime": {
     "end_time": "2024-05-17T07:24:05.089659Z",
     "start_time": "2024-05-17T07:24:00.704857Z"
    }
   },
   "outputs": [
    {
     "name": "stderr",
     "output_type": "stream",
     "text": [
      "2024-05-17 10:23:54.916 Python[82609:8722008] WARNING: Secure coding is not enabled for restorable state! Enable secure coding by implementing NSApplicationDelegate.applicationSupportsSecureRestorableState: and returning YES.\n"
     ]
    },
    {
     "name": "stdout",
     "output_type": "stream",
     "text": [
      "[ 0.09507107 -0.00707107  0.8476    ]\n",
      "[0.09531884 0.00182654 0.84759982]\n",
      "[0.09497159 0.00832171 0.84759988]\n",
      "[ 0.09277042 -0.01135837  0.84794324]\n",
      "[ 0.09237485 -0.01489214  0.84792431]\n",
      "[ 0.08442494 -0.03930663  0.84800424]\n",
      "[ 0.08333847 -0.04225905  0.84794748]\n",
      "[ 0.09336503 -0.00935332  0.84787614]\n",
      "[ 0.09063522 -0.01543623  0.84821741]\n",
      "[0.09270781 0.0106053  0.84797061]\n",
      "[0.09096279 0.00236881 0.84838546]\n",
      "[0.09056865 0.00902896 0.84838178]\n",
      "[ 0.08614704 -0.01803127  0.8489034 ]\n",
      "[ 0.08861607 -0.00857234  0.84872894]\n",
      "[ 0.08099575 -0.03365819  0.84895511]\n",
      "[ 0.07447055 -0.04748334  0.8488515 ]\n",
      "[ 0.08125724 -0.03296366  0.84895913]\n",
      "[ 0.08709813 -0.00280041  0.84905161]\n",
      "[ 0.08246151 -0.01622618  0.84956582]\n",
      "[ 0.0779297  -0.03200369  0.84953309]\n",
      "[ 0.07494048 -0.03940044  0.84946444]\n",
      "[ 0.08342331 -0.01105052  0.849548  ]\n",
      "[0.08405453 0.00120426 0.84956186]\n",
      "[ 0.0819916  -0.01188767  0.84975809]\n",
      "[ 0.08145303 -0.01559912  0.84974488]\n",
      "[0.08397056 0.01341707 0.84940285]\n",
      "[0.08321764 0.0095949  0.84960987]\n",
      "[ 8.36987937e-02 -5.36171812e-04  8.49620869e-01]\n",
      "[ 0.08302621 -0.0113158   0.8496058 ]\n",
      "[ 0.07443595 -0.03980967  0.84950547]\n",
      "[ 0.07815985 -0.03304752  0.84943207]\n",
      "[ 0.07856462 -0.03192788  0.84944092]\n",
      "[ 0.06891854 -0.05130827  0.84925678]\n",
      "[ 0.06703535 -0.05414477  0.84921503]\n",
      "[ 0.06644694 -0.05498744  0.84920197]\n",
      "[ 0.05766341 -0.06568803  0.84900751]\n",
      "[ 0.06565296 -0.05609407  0.84918427]\n",
      "[ 0.05665113 -0.06673658  0.84898511]\n",
      "[ 0.04499122 -0.07684856  0.84872686]\n",
      "[ 0.06776688 -0.05274692  0.84923539]\n",
      "[ 0.06271864 -0.05969272  0.84912224]\n",
      "[ 0.07017635 -0.04899834  0.8492959 ]\n",
      "[ 0.08049937 -0.02464372  0.849531  ]\n",
      "[ 0.07439076 -0.03881195  0.84957744]\n",
      "[ 0.08093313 -0.02080686  0.84963466]\n",
      "[ 0.08189379 -0.01592421  0.84965761]\n",
      "[8.32365996e-02 1.54574830e-04 8.49689036e-01]\n",
      "[ 0.08233411 -0.00530804  0.84980665]\n",
      "[ 0.07409477 -0.0364093   0.84979842]\n",
      "[ 0.09507107 -0.00707107  0.8476    ]\n",
      "[ 0.0950712  -0.00707121  0.84759998]\n",
      "[ 0.09177902 -0.02399363  0.84768692]\n",
      "[0.09779485 0.00095899 0.84713708]\n",
      "[ 0.09764645 -0.00404348  0.84715025]\n",
      "[0.09861299 0.01806644 0.84666401]\n",
      "[0.09814626 0.0060994  0.8470348 ]\n",
      "[ 0.09797715 -0.00832725  0.84703589]\n",
      "[ 0.09779464 -0.01081503  0.84702432]\n",
      "[0.09880285 0.00887278 0.84686868]\n",
      "[ 0.09364277 -0.01369229  0.8477284 ]\n",
      "[ 0.09366317 -0.01356238  0.84772833]\n",
      "[ 0.09187213 -0.02276615  0.84772599]\n",
      "[ 0.08550263 -0.04070914  0.84771721]\n",
      "[ 0.07552951 -0.05724944  0.84770352]\n",
      "[ 0.0870653  -0.03722185  0.84771933]\n",
      "[ 0.09020911 -0.02869668  0.84772373]\n",
      "[ 0.0851445  -0.04108638  0.84774656]\n",
      "[ 0.07241403 -0.06096362  0.84772456]\n",
      "[ 0.06056239 -0.07289431  0.84770414]\n",
      "[ 0.05217263 -0.07920931  0.84768958]\n",
      "[ 0.04100448 -0.08564273  0.84767052]\n",
      "[ 0.04414541 -0.08402779  0.84767484]\n",
      "[ 0.07130889 -0.06182638  0.84777462]\n",
      "[ 0.0762739  -0.05555254  0.84777857]\n",
      "[ 0.08712888 -0.03586182  0.84780422]\n",
      "[ 0.09298497 -0.01473464  0.84781811]\n",
      "[0.09411879 0.00142703 0.84782096]\n",
      "[ 0.08676216 -0.02483689  0.84851574]\n",
      "[ 0.09118805 -0.00585647  0.84831684]\n",
      "[ 0.09128879 -0.00315967  0.84832262]\n",
      "[ 0.09084417 -0.00973048  0.848319  ]\n",
      "[ 0.08965187 -0.01788057  0.84830948]\n",
      "[ 0.08920882 -0.02006879  0.84830592]\n",
      "[0.09274393 0.00922821 0.84798986]\n",
      "[0.09210653 0.01144553 0.84805936]\n",
      "[0.08915847 0.03080722 0.84778392]\n",
      "[0.08701099 0.0021237  0.8490673 ]\n",
      "[ 0.08702471 -0.00155041  0.84906709]\n",
      "[0.08692728 0.00974859 0.8489938 ]\n",
      "[ 0.08304844 -0.01372507  0.84954195]\n",
      "[ 0.08306025 -0.01366507  0.84954203]\n",
      "[ 0.07807236 -0.03165462  0.8495308 ]\n",
      "[ 0.07487502 -0.03960088  0.84945636]\n",
      "[ 0.07395719 -0.04155617  0.84943502]\n",
      "[ 0.07998533 -0.02557462  0.84957531]\n",
      "[ 0.07137453 -0.04493101  0.84951605]\n",
      "[ 0.0754306  -0.03716508  0.84955679]\n",
      "[ 0.0807182  -0.02055904  0.84968542]\n",
      "[ 0.08228742 -0.01125367  0.84972415]\n"
     ]
    },
    {
     "ename": "error",
     "evalue": "Not connected to physics server.",
     "output_type": "error",
     "traceback": [
      "\u001B[0;31m---------------------------------------------------------------------------\u001B[0m",
      "\u001B[0;31merror\u001B[0m                                     Traceback (most recent call last)",
      "Cell \u001B[0;32mIn[3], line 5\u001B[0m\n\u001B[1;32m      3\u001B[0m \u001B[38;5;28;01mfor\u001B[39;00m step \u001B[38;5;129;01min\u001B[39;00m \u001B[38;5;28mrange\u001B[39m(\u001B[38;5;241m300\u001B[39m):\n\u001B[1;32m      4\u001B[0m     action \u001B[38;5;241m=\u001B[39m np\u001B[38;5;241m.\u001B[39mrandom\u001B[38;5;241m.\u001B[39muniform(\u001B[38;5;241m-\u001B[39m\u001B[38;5;241m2.0\u001B[39m,\u001B[38;5;241m2.0\u001B[39m)\n\u001B[0;32m----> 5\u001B[0m     reward, done \u001B[38;5;241m=\u001B[39m \u001B[43menv\u001B[49m\u001B[38;5;241;43m.\u001B[39;49m\u001B[43mstep\u001B[49m\u001B[43m(\u001B[49m\u001B[43maction\u001B[49m\u001B[43m)\u001B[49m\n\u001B[1;32m      6\u001B[0m     \u001B[38;5;28mprint\u001B[39m(env\u001B[38;5;241m.\u001B[39mstate)\n\u001B[1;32m      7\u001B[0m     p\u001B[38;5;241m.\u001B[39mstepSimulation()\n",
      "Cell \u001B[0;32mIn[2], line 32\u001B[0m, in \u001B[0;36mEnvironment.step\u001B[0;34m(self, action)\u001B[0m\n\u001B[1;32m     29\u001B[0m finger_pos \u001B[38;5;241m=\u001B[39m p\u001B[38;5;241m.\u001B[39mgetLinkState(\u001B[38;5;28mself\u001B[39m\u001B[38;5;241m.\u001B[39mpandaUID,\u001B[38;5;241m9\u001B[39m)[\u001B[38;5;241m0\u001B[39m]\n\u001B[1;32m     31\u001B[0m \u001B[38;5;28;01mif\u001B[39;00m \u001B[38;5;28mself\u001B[39m\u001B[38;5;241m.\u001B[39mstep_count \u001B[38;5;241m>\u001B[39m\u001B[38;5;241m=\u001B[39m \u001B[38;5;241m50\u001B[39m: \u001B[38;5;66;03m# check for termination\u001B[39;00m\n\u001B[0;32m---> 32\u001B[0m     \u001B[38;5;28;43mself\u001B[39;49m\u001B[38;5;241;43m.\u001B[39;49m\u001B[43mreset\u001B[49m\u001B[43m(\u001B[49m\u001B[43m)\u001B[49m\n\u001B[1;32m     33\u001B[0m     finger_pos \u001B[38;5;241m=\u001B[39m p\u001B[38;5;241m.\u001B[39mgetLinkState(\u001B[38;5;28mself\u001B[39m\u001B[38;5;241m.\u001B[39mpandaUID, \u001B[38;5;241m9\u001B[39m)[\u001B[38;5;241m0\u001B[39m]\n\u001B[1;32m     34\u001B[0m     obs \u001B[38;5;241m=\u001B[39m np\u001B[38;5;241m.\u001B[39marray([finger_pos])\u001B[38;5;241m.\u001B[39mflatten()\n",
      "Cell \u001B[0;32mIn[2], line 21\u001B[0m, in \u001B[0;36mEnvironment.reset\u001B[0;34m(self)\u001B[0m\n\u001B[1;32m     19\u001B[0m \u001B[38;5;28;01mdef\u001B[39;00m \u001B[38;5;21mreset\u001B[39m(\u001B[38;5;28mself\u001B[39m):\n\u001B[1;32m     20\u001B[0m     p\u001B[38;5;241m.\u001B[39mdisconnect()\n\u001B[0;32m---> 21\u001B[0m     \u001B[38;5;28mself\u001B[39m\u001B[38;5;241m.\u001B[39mstate \u001B[38;5;241m=\u001B[39m \u001B[38;5;28;43mself\u001B[39;49m\u001B[38;5;241;43m.\u001B[39;49m\u001B[43minit_state\u001B[49m\u001B[43m(\u001B[49m\u001B[43m)\u001B[49m\n\u001B[1;32m     22\u001B[0m     \u001B[38;5;28mself\u001B[39m\u001B[38;5;241m.\u001B[39mstep_count \u001B[38;5;241m=\u001B[39m \u001B[38;5;241m0\u001B[39m\n",
      "Cell \u001B[0;32mIn[2], line 9\u001B[0m, in \u001B[0;36mEnvironment.init_state\u001B[0;34m(self)\u001B[0m\n\u001B[1;32m      7\u001B[0m \u001B[38;5;28;01mdef\u001B[39;00m \u001B[38;5;21minit_state\u001B[39m(\u001B[38;5;28mself\u001B[39m):\n\u001B[1;32m      8\u001B[0m     p\u001B[38;5;241m.\u001B[39mconnect(p\u001B[38;5;241m.\u001B[39mGUI)\n\u001B[0;32m----> 9\u001B[0m     \u001B[43mp\u001B[49m\u001B[38;5;241;43m.\u001B[39;49m\u001B[43mresetSimulation\u001B[49m\u001B[43m(\u001B[49m\u001B[43m)\u001B[49m\n\u001B[1;32m     10\u001B[0m     p\u001B[38;5;241m.\u001B[39msetAdditionalSearchPath(pybullet_data\u001B[38;5;241m.\u001B[39mgetDataPath())\n\u001B[1;32m     11\u001B[0m     p\u001B[38;5;241m.\u001B[39msetGravity(\u001B[38;5;241m0\u001B[39m,\u001B[38;5;241m0\u001B[39m,\u001B[38;5;241m-\u001B[39m\u001B[38;5;241m9.8\u001B[39m)\n",
      "\u001B[0;31merror\u001B[0m: Not connected to physics server."
     ]
    }
   ],
   "source": [
    "env = Environment()\n",
    "\n",
    "for step in range(300):\n",
    "    action = np.random.uniform(-2.0,2.0)\n",
    "    reward, done = env.step(action)\n",
    "    print(env.state)\n",
    "    p.stepSimulation()"
   ]
  }
 ],
 "metadata": {
  "kernelspec": {
   "name": "env",
   "language": "python",
   "display_name": "env"
  },
  "language_info": {
   "codemirror_mode": {
    "name": "ipython",
    "version": 3
   },
   "file_extension": ".py",
   "mimetype": "text/x-python",
   "name": "python",
   "nbconvert_exporter": "python",
   "pygments_lexer": "ipython3",
   "version": "3.12.2"
  }
 },
 "nbformat": 4,
 "nbformat_minor": 2
}
